{
 "cells": [
  {
   "cell_type": "code",
   "execution_count": 1,
   "metadata": {},
   "outputs": [],
   "source": [
    "import cv2\n",
    "import torch\n",
    "import torchvision\n",
    "from tqdm import tqdm\n",
    "import numpy as np\n",
    "from monai.transforms import (\n",
    "    apply_transform,\n",
    "    Randomizable,\n",
    "    Compose,\n",
    "    OneOf,\n",
    "    EnsureChannelFirstDict,\n",
    "    LoadImageDict,\n",
    "    SpacingDict,\n",
    "    OrientationDict,\n",
    "    DivisiblePadDict,\n",
    "    CropForegroundDict,\n",
    "    ResizeDict,\n",
    "    RandZoomDict,\n",
    "    ZoomDict,\n",
    "    RandRotateDict,\n",
    "    HistogramNormalizeDict,\n",
    "    ScaleIntensityDict,\n",
    "    ScaleIntensityRangeDict,\n",
    "    ToTensorDict,\n",
    "    Transform\n",
    ")"
   ]
  },
  {
   "cell_type": "code",
   "execution_count": 2,
   "metadata": {},
   "outputs": [],
   "source": [
    "%%bash\n",
    "mkdir -p demo/ct/"
   ]
  },
  {
   "cell_type": "code",
   "execution_count": 3,
   "metadata": {},
   "outputs": [],
   "source": [
    "import os\n",
    "import glob\n",
    "from tqdm.auto import tqdm"
   ]
  },
  {
   "cell_type": "code",
   "execution_count": 4,
   "metadata": {},
   "outputs": [],
   "source": [
    "def glob_files(folders: str = None, extension: str = \"*.nii.gz\"):\n",
    "    assert folders is not None\n",
    "    paths = [\n",
    "        glob.glob(os.path.join(folder, extension), recursive=True)\n",
    "        for folder in folders\n",
    "    ]\n",
    "    files = sorted([item for sublist in paths for item in sublist])\n",
    "    print(len(files))\n",
    "    print(files[:1])\n",
    "    return files"
   ]
  },
  {
   "cell_type": "code",
   "execution_count": 5,
   "metadata": {},
   "outputs": [
    {
     "name": "stdout",
     "output_type": "stream",
     "text": [
      "1512\n",
      "['data/ChestXRLungSegmentation/MOSMED/processed/train/images/CT-0/study_0001.nii.gz']\n"
     ]
    }
   ],
   "source": [
    "ct_folders = [\n",
    "    \"data/ChestXRLungSegmentation/NSCLC/processed/train/images\",\n",
    "    \"data/ChestXRLungSegmentation/MOSMED/processed/train/images/CT-0\",\n",
    "    \"data/ChestXRLungSegmentation/MOSMED/processed/train/images/CT-1\",\n",
    "    \"data/ChestXRLungSegmentation/MOSMED/processed/train/images/CT-2\",\n",
    "    \"data/ChestXRLungSegmentation/MOSMED/processed/train/images/CT-3\",\n",
    "    \"data/ChestXRLungSegmentation/MOSMED/processed/train/images/CT-4\",\n",
    "    \"data/ChestXRLungSegmentation/Imagenglab/processed/train/images\",\n",
    "]\n",
    "ct_images = glob_files(\n",
    "    ct_folders, \n",
    "    extension=\"*.nii.gz\"\n",
    ")"
   ]
  },
  {
   "cell_type": "code",
   "execution_count": 6,
   "metadata": {},
   "outputs": [],
   "source": [
    "class UnSqueezeDim(Transform):\n",
    "    \"\"\"\n",
    "    Squeeze unnecessary unitary dimensions\n",
    "    \"\"\"\n",
    "\n",
    "    def __init__(self, dim=None):\n",
    "        \"\"\"\n",
    "        Args:\n",
    "            dim (int): dimension to be squeezed.\n",
    "                Default: None (all dimensions of size 1 will be removed)\n",
    "        \"\"\"\n",
    "        if dim is not None:\n",
    "            assert isinstance(dim, int) and dim >= -1, 'invalid channel dimension.'\n",
    "        self.dim = dim\n",
    "\n",
    "    def __call__(self, img):\n",
    "        \"\"\"\n",
    "        Args:\n",
    "            data (dict): dictionary of numpy arrays with dim removed,\n",
    "        \"\"\"\n",
    "        return np.expand_dims(img, self.dim)\n",
    "\n",
    "class SqueezeDim(Transform):\n",
    "    \"\"\"\n",
    "    Squeeze unnecessary unitary dimensions\n",
    "    \"\"\"\n",
    "\n",
    "    def __init__(self, dim=None):\n",
    "        \"\"\"\n",
    "        Args:\n",
    "            dim (int): dimension to be squeezed.\n",
    "                Default: None (all dimensions of size 1 will be removed)\n",
    "        \"\"\"\n",
    "        if dim is not None:\n",
    "            assert isinstance(dim, int) and dim >= -1, 'invalid channel dimension.'\n",
    "        self.dim = dim\n",
    "\n",
    "    def __call__(self, img):\n",
    "        \"\"\"\n",
    "        Args:\n",
    "            data (dict): dictionary of numpy arrays with dim removed,\n",
    "        \"\"\"\n",
    "        return np.squeeze(img, self.dim)"
   ]
  },
  {
   "cell_type": "code",
   "execution_count": 7,
   "metadata": {},
   "outputs": [
    {
     "name": "stderr",
     "output_type": "stream",
     "text": [
      "/home/quantm/anaconda3/envs/py310/lib/python3.10/site-packages/monai/utils/deprecate_utils.py:321: FutureWarning: monai.transforms.croppad.dictionary CropForegroundd.__init__:allow_smaller: Current default value of argument `allow_smaller=True` has been deprecated since version 1.2. It will be changed to `allow_smaller=False` in version 1.5.\n",
      "  warn_deprecated(argname, msg, warning_category)\n"
     ]
    }
   ],
   "source": [
    "# Define the transformation pipeline for \"image2d\"\n",
    "val_transforms = Compose(\n",
    "    [\n",
    "        LoadImageDict(keys=[\"image3d\"]),\n",
    "        EnsureChannelFirstDict(keys=[\"image3d\"],),\n",
    "        SpacingDict(\n",
    "            keys=[\"image3d\"],\n",
    "            pixdim=(1.0, 1.0, 1.0),\n",
    "            mode=[\"bilinear\"],\n",
    "            align_corners=True,\n",
    "        ),\n",
    "        OrientationDict(keys=(\"image3d\"), axcodes=\"ASL\"),\n",
    "        ScaleIntensityRangeDict(\n",
    "            keys=[\"image3d\"],\n",
    "            clip=True,\n",
    "            a_min=-1024,\n",
    "            a_max=+3071,\n",
    "            b_min=0.0,\n",
    "            b_max=1.0,\n",
    "        ),\n",
    "        CropForegroundDict(\n",
    "            keys=[\"image3d\"],\n",
    "            source_key=\"image3d\",\n",
    "            select_fn=(lambda x: x > 0),\n",
    "            margin=0,\n",
    "        ),\n",
    "        ZoomDict(keys=[\"image3d\"], zoom=0.95, padding_mode=\"constant\", mode=[\"area\"]),\n",
    "        ResizeDict(\n",
    "            keys=[\"image3d\"],\n",
    "            spatial_size=256,\n",
    "            size_mode=\"longest\",\n",
    "            mode=[\"trilinear\"],\n",
    "            align_corners=True,\n",
    "        ),\n",
    "        DivisiblePadDict(\n",
    "            keys=[\"image3d\"],\n",
    "            k=256,\n",
    "            mode=\"constant\",\n",
    "            constant_values=0,\n",
    "        ),\n",
    "        ToTensorDict(keys=[\"image3d\"],),\n",
    "    ]\n",
    ")"
   ]
  },
  {
   "cell_type": "code",
   "execution_count": 8,
   "metadata": {},
   "outputs": [
    {
     "name": "stdout",
     "output_type": "stream",
     "text": [
      "(1048576, 1048576)\n"
     ]
    },
    {
     "name": "stderr",
     "output_type": "stream",
     "text": [
      "Seed set to 21\n"
     ]
    }
   ],
   "source": [
    "from main_frustuminv_xray import NVLightningModule, make_cameras_dea\n",
    "\n",
    "# Run forward pass\n",
    "device = torch.device('cuda:0')\n",
    "B = 1\n",
    "checkpoint_path = \"logs/diffusion/version_4/checkpoints/last.ckpt\"\n",
    "model = NVLightningModule.load_from_checkpoint(checkpoint_path, strict=False).to(device)\n",
    "dist_hidden = 8 * torch.ones(B, device=device)\n",
    "elev_hidden = torch.zeros(B, device=device)\n",
    "azim_hidden = torch.zeros(B, device=device)\n",
    "view_hidden = make_cameras_dea(\n",
    "    dist_hidden, \n",
    "    elev_hidden, \n",
    "    azim_hidden, \n",
    "    fov=16.0, \n",
    "    znear=6.1, \n",
    "    zfar=9.9,\n",
    ").to(device)\n"
   ]
  },
  {
   "cell_type": "code",
   "execution_count": 9,
   "metadata": {},
   "outputs": [
    {
     "data": {
      "application/vnd.jupyter.widget-view+json": {
       "model_id": "5009e3ba8cd84f9ebb3e4058972be6b0",
       "version_major": 2,
       "version_minor": 0
      },
      "text/plain": [
       "  0%|          | 0/1512 [00:00<?, ?it/s]"
      ]
     },
     "metadata": {},
     "output_type": "display_data"
    },
    {
     "name": "stdout",
     "output_type": "stream",
     "text": [
      "torch.Size([1, 256, 256, 256])\n",
      "torch.Size([1, 256, 256, 256])\n",
      "torch.Size([1, 256, 256, 256])\n",
      "torch.Size([1, 256, 256, 256])\n"
     ]
    }
   ],
   "source": [
    "\n",
    "for image in tqdm(ct_images):\n",
    "    data = {}\n",
    "    data[\"image3d\"] = image\n",
    "    sample = val_transforms(data)\n",
    "    # print(sample[\"image3d\"].shape)\n",
    "\n",
    "    sample = sample[\"image3d\"].to(device)\n",
    "    sample = sample.unsqueeze(0)\n",
    "    # print(sample.shape)\n",
    "\n",
    "    output = model.forward_screen(\n",
    "        image3d=sample, \n",
    "        cameras=view_hidden, \n",
    "    ).clamp_(0, 1).squeeze().detach().cpu()\n",
    "    output = (255*output).astype(torch.uint8).unsqueeze(0).transpose(-1, -2)\n",
    "    # print(output.shape)\n",
    "    \n",
    "    filename = image.replace(\"/\", \"_\").replace(\".nii.gz\", \".png\")\n",
    "    torchvision.io.write_png(output, f\"demo/ct/{filename}\")\n",
    "    \n",
    "    "
   ]
  },
  {
   "cell_type": "code",
   "execution_count": null,
   "metadata": {},
   "outputs": [],
   "source": []
  },
  {
   "cell_type": "code",
   "execution_count": null,
   "metadata": {},
   "outputs": [],
   "source": []
  }
 ],
 "metadata": {
  "kernelspec": {
   "display_name": "py310",
   "language": "python",
   "name": "python3"
  },
  "language_info": {
   "codemirror_mode": {
    "name": "ipython",
    "version": 3
   },
   "file_extension": ".py",
   "mimetype": "text/x-python",
   "name": "python",
   "nbconvert_exporter": "python",
   "pygments_lexer": "ipython3",
   "version": "3.10.14"
  }
 },
 "nbformat": 4,
 "nbformat_minor": 2
}
